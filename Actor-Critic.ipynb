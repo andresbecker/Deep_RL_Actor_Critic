{
 "cells": [
  {
   "cell_type": "code",
   "execution_count": 2,
   "metadata": {},
   "outputs": [],
   "source": [
    "# For Development and debugging:\n",
    "# Reload modul without restarting the kernel\n",
    "%load_ext autoreload\n",
    "%autoreload 2"
   ]
  },
  {
   "cell_type": "code",
   "execution_count": 3,
   "metadata": {},
   "outputs": [],
   "source": [
    "from libs.Utils import plot_history\n",
    "import os\n",
    "path = '/home/hhughes/Documents/TUM_Subjects/S5/Seminar/Seminar_Project'\n",
    "os.makedirs(os.path.join(path, 'Models'), exist_ok=True)\n",
    "model_path = os.path.join(path, 'Models', 'Basic_Actor_Critic')\n",
    "os.makedirs(model_path, exist_ok=True)"
   ]
  },
  {
   "cell_type": "code",
   "execution_count": 4,
   "metadata": {},
   "outputs": [
    {
     "name": "stdout",
     "output_type": "stream",
     "text": [
      "Physical Devices: []\n",
      "Warning! GPU memory could not be limitated!\n"
     ]
    }
   ],
   "source": [
    "import tensorflow as tf\n",
    "\n",
    "physical_devices = tf.config.experimental.list_physical_devices('GPU')\n",
    "print('Physical Devices: {}'.format(physical_devices))\n",
    "try:\n",
    "    tf.config.experimental.set_memory_growth(physical_devices[0], True)\n",
    "    print('GPU memory limitated successfuly!')\n",
    "except:\n",
    "    print('Warning! GPU memory could not be limitated!')"
   ]
  },
  {
   "cell_type": "code",
   "execution_count": 22,
   "metadata": {},
   "outputs": [],
   "source": [
    "from keras import backend as K\n",
    "from keras.layers import Dense, Input\n",
    "from keras.models import Model\n",
    "from keras.optimizers import Adam\n",
    "import numpy as np\n",
    "\n",
    "\n",
    "class Agent(object):\n",
    "    def __init__(self, alpha, beta, gamma=0.99, n_actions=4,\n",
    "                 layer1_size=1024, layer2_size=512, input_dims=8):\n",
    "        self.gamma = gamma\n",
    "        self.alpha = alpha\n",
    "        self.beta = beta\n",
    "        self.input_dims = input_dims\n",
    "        self.leyer1_size = layer1_size\n",
    "        self.leyer2_size = layer2_size\n",
    "        self.n_actions = n_actions\n",
    "        \n",
    "        self.actor, self.critic, self.policy = self.build_actor_critic_network()\n",
    "        self.action_space = [i for i in range(self.n_actions)]\n",
    "    \n",
    "    def build_actor_critic_network(self):\n",
    "        inputs = Input(shape=(self.input_dims,))\n",
    "        delta = Input(shape=[1])\n",
    "        dense1 = Dense(self.leyer1_size, activation='relu')(inputs)\n",
    "        dense2 = Dense(self.leyer2_size, activation='relu')(dense1)\n",
    "        probs = Dense(self.n_actions, activation='softmax')(dense2)\n",
    "        values = Dense(1, activation='linear')(dense2)\n",
    "        \n",
    "        actor = Model(inputs=[inputs, delta], outputs=[probs])\n",
    "        actor.compile(optimizer=Adam(lr=self.alpha), loss='categorical_crossentropy')\n",
    "        \n",
    "        critic = Model(inputs=[inputs], outputs=[values])\n",
    "        critic.compile(optimizer=Adam(lr=self.beta), loss='mean_squared_error')\n",
    "        \n",
    "        policy = Model(inputs=[inputs], outputs=[probs])\n",
    "        \n",
    "        return actor, critic, policy\n",
    "    \n",
    "    def choose_action(self, observation):\n",
    "        state = observation[np.newaxis, :]\n",
    "        probabilities = self.policy.predict(state)[0]\n",
    "        action = np.random.choice(self.action_space, p=probabilities)\n",
    "        \n",
    "        return action\n",
    "    \n",
    "    def learn(self, state, action, reward, new_state, done):\n",
    "        state = state[np.newaxis, :]\n",
    "        new_state = new_state[np.newaxis, :]\n",
    "        \n",
    "        critic_value = self.critic.predict(state)\n",
    "        new_critic_value = self.critic.predict(new_state)\n",
    "        \n",
    "        target = reward + self.gamma * new_critic_value * (1 - int(done))\n",
    "        \n",
    "        delta = target - critic_value\n",
    "        \n",
    "        actions = np.zeros([1, self.n_actions])\n",
    "        actions[np.arange(1), action] = 1.0\n",
    "        \n",
    "        self.actor.fit([state, delta], actions, verbose=0)\n",
    "        self.critic.fit(state, target, verbose=0)\n"
   ]
  },
  {
   "cell_type": "markdown",
   "metadata": {},
   "source": [
    "# The Environment\n",
    "## OpenAI Gym\n",
    "\n",
    "Gym is a toolkit for developing and comparing reinforcement learning algorithms. It supports teaching agents everything from walking to playing games like Pong or Pinball."
   ]
  },
  {
   "cell_type": "markdown",
   "metadata": {},
   "source": [
    "### LunarLander-v2 environment"
   ]
  },
  {
   "cell_type": "markdown",
   "metadata": {},
   "source": [
    "Landing pad is always at coordinates (0,0). Coordinates are the first two numbers in state vector. Reward for moving from the top of the screen to landing pad and zero speed is about 100..140 points. If lander moves away from landing pad it loses reward back. Episode finishes if the lander crashes or comes to rest, receiving additional -100 or +100 points. Each leg ground contact is +10. Firing main engine is -0.3 points each frame. Solved is 200 points. Landing outside landing pad is possible. Fuel is infinite, so an agent can learn to fly and then land on its first attempt. Four discrete actions available: do nothing, fire left orientation engine, fire main engine, fire right orientation engine."
   ]
  },
  {
   "cell_type": "code",
   "execution_count": 14,
   "metadata": {},
   "outputs": [
    {
     "data": {
      "text/html": [
       "<video src=\"Moon_Lander.mp4\" controls  >\n",
       "      Your browser does not support the <code>video</code> element.\n",
       "    </video>"
      ],
      "text/plain": [
       "<IPython.core.display.Video object>"
      ]
     },
     "execution_count": 14,
     "metadata": {},
     "output_type": "execute_result"
    }
   ],
   "source": [
    "from IPython.display import Video\n",
    "Video('Moon_Lander.mp4')"
   ]
  },
  {
   "cell_type": "code",
   "execution_count": 23,
   "metadata": {},
   "outputs": [
    {
     "name": "stdout",
     "output_type": "stream",
     "text": [
      "Starting episode:  0\n",
      "[[0. 1. 0. 0.]]\n",
      "[[0. 0. 0. 1.]]\n",
      "[[0. 0. 0. 1.]]\n",
      "[[1. 0. 0. 0.]]\n",
      "[[1. 0. 0. 0.]]\n",
      "[[1. 0. 0. 0.]]\n",
      "[[0. 0. 0. 1.]]\n",
      "[[0. 0. 1. 0.]]\n",
      "[[0. 1. 0. 0.]]\n",
      "[[0. 1. 0. 0.]]\n",
      "[[0. 1. 0. 0.]]\n",
      "[[1. 0. 0. 0.]]\n",
      "[[0. 0. 0. 1.]]\n",
      "[[0. 0. 1. 0.]]\n",
      "[[1. 0. 0. 0.]]\n",
      "[[1. 0. 0. 0.]]\n",
      "[[0. 1. 0. 0.]]\n",
      "[[0. 0. 1. 0.]]\n",
      "[[0. 0. 1. 0.]]\n",
      "[[0. 0. 1. 0.]]\n",
      "[[0. 1. 0. 0.]]\n",
      "[[0. 0. 0. 1.]]\n",
      "[[0. 0. 1. 0.]]\n",
      "[[1. 0. 0. 0.]]\n",
      "[[1. 0. 0. 0.]]\n",
      "[[0. 1. 0. 0.]]\n",
      "[[0. 1. 0. 0.]]\n",
      "[[0. 1. 0. 0.]]\n",
      "[[0. 0. 1. 0.]]\n",
      "[[0. 1. 0. 0.]]\n",
      "[[1. 0. 0. 0.]]\n",
      "[[0. 0. 0. 1.]]\n",
      "[[0. 0. 0. 1.]]\n",
      "[[0. 0. 0. 1.]]\n",
      "[[0. 1. 0. 0.]]\n",
      "[[0. 0. 0. 1.]]\n",
      "[[1. 0. 0. 0.]]\n",
      "[[0. 0. 0. 1.]]\n",
      "[[0. 1. 0. 0.]]\n",
      "[[0. 1. 0. 0.]]\n",
      "[[0. 0. 0. 1.]]\n",
      "[[0. 1. 0. 0.]]\n",
      "[[0. 0. 0. 1.]]\n",
      "[[1. 0. 0. 0.]]\n",
      "[[0. 0. 1. 0.]]\n",
      "[[1. 0. 0. 0.]]\n",
      "[[0. 0. 1. 0.]]\n",
      "[[0. 1. 0. 0.]]\n",
      "[[1. 0. 0. 0.]]\n",
      "[[0. 0. 0. 1.]]\n",
      "[[0. 0. 0. 1.]]\n",
      "[[0. 0. 0. 1.]]\n",
      "[[0. 0. 1. 0.]]\n",
      "[[1. 0. 0. 0.]]\n",
      "[[0. 0. 1. 0.]]\n",
      "[[0. 1. 0. 0.]]\n",
      "[[0. 1. 0. 0.]]\n",
      "[[0. 1. 0. 0.]]\n",
      "[[0. 1. 0. 0.]]\n",
      "episode  0 score -117.47 average score -117.47\n",
      "Starting episode:  1\n",
      "[[0. 0. 0. 1.]]\n",
      "[[1. 0. 0. 0.]]\n",
      "[[0. 1. 0. 0.]]\n",
      "[[1. 0. 0. 0.]]\n",
      "[[0. 0. 0. 1.]]\n",
      "[[1. 0. 0. 0.]]\n",
      "[[0. 0. 1. 0.]]\n",
      "[[0. 0. 0. 1.]]\n",
      "[[0. 1. 0. 0.]]\n",
      "[[0. 0. 0. 1.]]\n",
      "[[0. 0. 1. 0.]]\n",
      "[[0. 0. 1. 0.]]\n",
      "[[0. 0. 0. 1.]]\n",
      "[[0. 0. 1. 0.]]\n",
      "[[0. 1. 0. 0.]]\n",
      "[[0. 0. 1. 0.]]\n",
      "[[0. 0. 1. 0.]]\n",
      "[[0. 0. 0. 1.]]\n",
      "[[0. 0. 1. 0.]]\n",
      "[[0. 1. 0. 0.]]\n",
      "[[0. 0. 0. 1.]]\n",
      "[[0. 0. 1. 0.]]\n",
      "[[0. 0. 0. 1.]]\n",
      "[[0. 1. 0. 0.]]\n",
      "[[1. 0. 0. 0.]]\n",
      "[[0. 1. 0. 0.]]\n",
      "[[0. 0. 0. 1.]]\n",
      "[[0. 0. 1. 0.]]\n",
      "[[0. 0. 1. 0.]]\n",
      "[[0. 0. 0. 1.]]\n",
      "[[0. 0. 0. 1.]]\n",
      "[[1. 0. 0. 0.]]\n",
      "[[1. 0. 0. 0.]]\n",
      "[[1. 0. 0. 0.]]\n",
      "[[0. 0. 1. 0.]]\n",
      "[[0. 0. 1. 0.]]\n",
      "[[0. 1. 0. 0.]]\n",
      "[[0. 0. 0. 1.]]\n",
      "[[0. 0. 1. 0.]]\n",
      "[[0. 0. 0. 1.]]\n",
      "[[0. 0. 1. 0.]]\n",
      "[[0. 1. 0. 0.]]\n",
      "[[0. 0. 1. 0.]]\n",
      "[[0. 1. 0. 0.]]\n",
      "[[1. 0. 0. 0.]]\n",
      "[[0. 0. 0. 1.]]\n",
      "[[0. 1. 0. 0.]]\n",
      "[[0. 1. 0. 0.]]\n",
      "[[0. 1. 0. 0.]]\n",
      "[[1. 0. 0. 0.]]\n",
      "[[0. 0. 0. 1.]]\n",
      "[[0. 0. 0. 1.]]\n",
      "[[0. 0. 1. 0.]]\n",
      "[[0. 1. 0. 0.]]\n",
      "[[0. 1. 0. 0.]]\n",
      "[[0. 0. 0. 1.]]\n",
      "[[0. 0. 0. 1.]]\n",
      "[[1. 0. 0. 0.]]\n",
      "[[1. 0. 0. 0.]]\n",
      "[[0. 0. 0. 1.]]\n",
      "[[0. 1. 0. 0.]]\n",
      "[[0. 0. 0. 1.]]\n",
      "[[0. 0. 0. 1.]]\n",
      "[[0. 0. 0. 1.]]\n",
      "[[0. 1. 0. 0.]]\n",
      "[[1. 0. 0. 0.]]\n",
      "[[0. 0. 0. 1.]]\n",
      "[[0. 0. 0. 1.]]\n",
      "[[0. 0. 0. 1.]]\n",
      "[[0. 0. 1. 0.]]\n",
      "[[0. 0. 0. 1.]]\n",
      "[[0. 0. 0. 1.]]\n",
      "[[0. 0. 0. 1.]]\n",
      "[[0. 0. 0. 1.]]\n",
      "[[1. 0. 0. 0.]]\n",
      "[[0. 0. 1. 0.]]\n",
      "[[0. 0. 0. 1.]]\n",
      "[[0. 0. 0. 1.]]\n",
      "[[0. 0. 1. 0.]]\n",
      "[[1. 0. 0. 0.]]\n",
      "[[0. 0. 0. 1.]]\n",
      "[[0. 0. 1. 0.]]\n",
      "[[0. 0. 0. 1.]]\n",
      "[[0. 0. 1. 0.]]\n",
      "[[1. 0. 0. 0.]]\n",
      "[[0. 0. 0. 1.]]\n",
      "[[0. 0. 0. 1.]]\n",
      "[[0. 1. 0. 0.]]\n",
      "[[0. 1. 0. 0.]]\n",
      "[[0. 0. 0. 1.]]\n",
      "[[0. 0. 0. 1.]]\n",
      "[[0. 1. 0. 0.]]\n",
      "[[0. 1. 0. 0.]]\n",
      "[[1. 0. 0. 0.]]\n",
      "[[1. 0. 0. 0.]]\n",
      "[[0. 0. 1. 0.]]\n",
      "[[0. 0. 1. 0.]]\n",
      "[[0. 1. 0. 0.]]\n",
      "[[0. 1. 0. 0.]]\n",
      "[[0. 1. 0. 0.]]\n",
      "[[0. 1. 0. 0.]]\n",
      "[[0. 0. 0. 1.]]\n",
      "[[0. 0. 1. 0.]]\n",
      "[[0. 1. 0. 0.]]\n",
      "[[1. 0. 0. 0.]]\n",
      "[[0. 1. 0. 0.]]\n",
      "[[0. 0. 1. 0.]]\n",
      "[[1. 0. 0. 0.]]\n",
      "[[0. 0. 0. 1.]]\n",
      "[[0. 0. 0. 1.]]\n",
      "episode  1 score -285.94 average score -201.71\n"
     ]
    }
   ],
   "source": [
    "import gym\n",
    "import numpy as np\n",
    "from libs.Utils import plot_history\n",
    "\n",
    "agent = Agent(alpha=0.00001, beta=0.00005)\n",
    "\n",
    "env = gym.make('LunarLander-v2')\n",
    "score_history = []\n",
    "avg_score_history = []\n",
    "num_episodes = 2\n",
    "\n",
    "actions = []\n",
    "for i in range(num_episodes):\n",
    "    done = False\n",
    "    score = 0\n",
    "    observation = env.reset()\n",
    "    \n",
    "    print('Starting episode: ', i)\n",
    "    while not done:\n",
    "        action = agent.choose_action(observation)\n",
    "        new_observation, reward, done, info = env.step(action)\n",
    "        agent.learn(observation, action, reward, new_observation, done)\n",
    "        observation = new_observation\n",
    "        score += reward\n",
    "        \n",
    "        actions.append(action)\n",
    "        \n",
    "    score_history.append(score)\n",
    "    avg_score = np.mean(score_history[-100:])\n",
    "    avg_score_history.append(avg_score)\n",
    "    plot_history(score_history, avg_score_history, os.path.join(model_path, 'plot'))\n",
    "    print('episode ', i, 'score %.2f average score %.2f' % \\\n",
    "          (score, avg_score))"
   ]
  },
  {
   "cell_type": "code",
   "execution_count": 21,
   "metadata": {},
   "outputs": [
    {
     "data": {
      "text/plain": [
       "array([0, 1, 2, 3])"
      ]
     },
     "execution_count": 21,
     "metadata": {},
     "output_type": "execute_result"
    }
   ],
   "source": [
    "np.unique(np.array(actions))"
   ]
  },
  {
   "cell_type": "code",
   "execution_count": null,
   "metadata": {},
   "outputs": [],
   "source": [
    "# Save history\n",
    "np.savez(os.path.join(model_path, 'history'), score_history=score_history, avg_score_history=avg_score_history)\n",
    "\n",
    "# save models\n"
   ]
  },
  {
   "cell_type": "code",
   "execution_count": 9,
   "metadata": {},
   "outputs": [
    {
     "data": {
      "text/plain": [
       "0"
      ]
     },
     "execution_count": 9,
     "metadata": {},
     "output_type": "execute_result"
    }
   ],
   "source": [
    "action = agent.choose_action(observation)\n",
    "action"
   ]
  },
  {
   "cell_type": "code",
   "execution_count": 10,
   "metadata": {},
   "outputs": [
    {
     "data": {
      "text/plain": [
       "array([ 0.71006507, -0.12863599,  1.6626164 , -0.7748509 , -1.8214186 ,\n",
       "       -5.648716  ,  1.        ,  0.        ], dtype=float32)"
      ]
     },
     "execution_count": 10,
     "metadata": {},
     "output_type": "execute_result"
    }
   ],
   "source": [
    "observation"
   ]
  },
  {
   "cell_type": "code",
   "execution_count": null,
   "metadata": {},
   "outputs": [],
   "source": []
  },
  {
   "cell_type": "code",
   "execution_count": null,
   "metadata": {},
   "outputs": [],
   "source": []
  }
 ],
 "metadata": {
  "kernelspec": {
   "display_name": "Python 3",
   "language": "python",
   "name": "python3"
  },
  "language_info": {
   "codemirror_mode": {
    "name": "ipython",
    "version": 3
   },
   "file_extension": ".py",
   "mimetype": "text/x-python",
   "name": "python",
   "nbconvert_exporter": "python",
   "pygments_lexer": "ipython3",
   "version": "3.8.6"
  }
 },
 "nbformat": 4,
 "nbformat_minor": 4
}
